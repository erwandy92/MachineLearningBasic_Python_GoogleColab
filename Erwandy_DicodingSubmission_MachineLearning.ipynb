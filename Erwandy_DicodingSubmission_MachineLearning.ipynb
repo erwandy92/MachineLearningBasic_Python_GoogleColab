{
  "nbformat": 4,
  "nbformat_minor": 0,
  "metadata": {
    "colab": {
      "name": "Erwandy_DicodingSubmission_MachineLearning.ipynb",
      "provenance": [],
      "collapsed_sections": []
    },
    "kernelspec": {
      "name": "python3",
      "display_name": "Python 3"
    }
  },
  "cells": [
    {
      "cell_type": "code",
      "metadata": {
        "id": "V9jYjNsrvc4s"
      },
      "source": [
        "import tensorflow as tf\n",
        "from tensorflow.keras.optimizers import RMSprop\n",
        "from tensorflow.keras.preprocessing.image import ImageDataGenerator\n",
        "import zipfile, os, shutil\n",
        "from sklearn.model_selection import train_test_split\n"
      ],
      "execution_count": 1,
      "outputs": []
    },
    {
      "cell_type": "code",
      "metadata": {
        "id": "TiC_1nV6xgij",
        "outputId": "ca451029-5f36-48fc-e879-93ee2a4a0c30",
        "colab": {
          "base_uri": "https://localhost:8080/"
        }
      },
      "source": [
        "# Download File RockPaperScissors.zip\n",
        "!wget --no-check-certificate \\\n",
        "  https://dicodingacademy.blob.core.windows.net/picodiploma/ml_pemula_academy/rockpaperscissors.zip \\\n",
        "  -O /tmp/rockpaperscissors.zip"
      ],
      "execution_count": 2,
      "outputs": [
        {
          "output_type": "stream",
          "text": [
            "--2020-11-05 16:07:11--  https://dicodingacademy.blob.core.windows.net/picodiploma/ml_pemula_academy/rockpaperscissors.zip\n",
            "Resolving dicodingacademy.blob.core.windows.net (dicodingacademy.blob.core.windows.net)... 52.239.197.36\n",
            "Connecting to dicodingacademy.blob.core.windows.net (dicodingacademy.blob.core.windows.net)|52.239.197.36|:443... connected.\n",
            "HTTP request sent, awaiting response... 200 OK\n",
            "Length: 322873683 (308M) [application/zip]\n",
            "Saving to: ‘/tmp/rockpaperscissors.zip’\n",
            "\n",
            "/tmp/rockpapersciss 100%[===================>] 307.92M  5.29MB/s    in 55s     \n",
            "\n",
            "2020-11-05 16:08:08 (5.58 MB/s) - ‘/tmp/rockpaperscissors.zip’ saved [322873683/322873683]\n",
            "\n"
          ],
          "name": "stdout"
        }
      ]
    },
    {
      "cell_type": "code",
      "metadata": {
        "id": "BEYnNov0wQw6"
      },
      "source": [
        "# File zip extraction\n",
        "local_zip = '/tmp/rockpaperscissors.zip'\n",
        "zip_ref = zipfile.ZipFile(local_zip, 'r')\n",
        "zip_ref.extractall('/tmp')\n",
        "zip_ref.close()"
      ],
      "execution_count": 3,
      "outputs": []
    },
    {
      "cell_type": "code",
      "metadata": {
        "id": "Wv1OQDLx7NYr"
      },
      "source": [
        "base_dir = '/tmp/rockpaperscissors'\n",
        "train_dir = os.path.join(base_dir, 'train')\n",
        "validation_dir = os.path.join(base_dir, 'val')\n",
        "\n",
        "if os.path.exists(train_dir):\n",
        "  shutil.rmtree(train_dir)\n",
        "os.mkdir(train_dir)\n",
        "\n",
        "if os.path.exists(validation_dir):\n",
        "  shutil.rmtree(validation_dir)\n",
        "os.mkdir(validation_dir)\n",
        "\n",
        "paper     = 'paper'\n",
        "rock      = 'rock'\n",
        "scissors  = 'scissors'\n",
        "\n",
        "# Original Directory \n",
        "paper_dir     = os.path.join(base_dir, paper)\n",
        "rock_dir      = os.path.join(base_dir, rock)\n",
        "scissors_dir  = os.path.join(base_dir, scissors)\n",
        "\n",
        "# Training Direcotry\n",
        "train_subdir_paper = os.path.join(train_dir, paper)\n",
        "train_subdir_rock = os.path.join(train_dir, rock)\n",
        "train_subdir_scissors = os.path.join(train_dir, scissors)\n",
        "\n",
        "# Validation Directory\n",
        "val_subdir_paper = os.path.join(validation_dir, paper)\n",
        "val_subdir_rock = os.path.join(validation_dir, rock)\n",
        "val_subdir_scissors = os.path.join(validation_dir, scissors)\n",
        "\n",
        "# Create directory for train\n",
        "if os.path.exists(train_subdir_paper):\n",
        "  shutil.rmtree(train_subdir_paper)\n",
        "\n",
        "if os.path.exists(train_subdir_rock):\n",
        "  shutil.rmtree(train_subdir_rock)\n",
        "\n",
        "if os.path.exists(train_subdir_scissors):\n",
        "  shutil.rmtree(train_subdir_scissors)\n",
        "\n",
        "os.mkdir(train_subdir_paper)\n",
        "os.mkdir(train_subdir_rock)\n",
        "os.mkdir(train_subdir_scissors)\n",
        "\n",
        "# Create directory for val\n",
        "if os.path.exists(val_subdir_paper):\n",
        "  shutil.rmtree(val_subdir_paper)\n",
        "os.mkdir(val_subdir_paper)\n",
        "\n",
        "if os.path.exists(train_subdir_scissors):\n",
        "  shutil.rmtree(train_subdir_scissors)\n",
        "os.mkdir(val_subdir_rock)\n",
        "\n",
        "if os.path.exists(val_subdir_scissors):\n",
        "  shutil.rmtree(val_subdir_scissors)\n",
        "os.mkdir(val_subdir_scissors)"
      ],
      "execution_count": 10,
      "outputs": []
    },
    {
      "cell_type": "code",
      "metadata": {
        "id": "tIZYXNWpyk0T",
        "outputId": "4306d18b-82e7-41d2-abcc-2c40b6d9734f",
        "colab": {
          "base_uri": "https://localhost:8080/"
        }
      },
      "source": [
        "os.listdir(base_dir)"
      ],
      "execution_count": 5,
      "outputs": [
        {
          "output_type": "execute_result",
          "data": {
            "text/plain": [
              "['README_rpc-cv-images.txt',\n",
              " 'paper',\n",
              " 'val',\n",
              " 'rock',\n",
              " 'rps-cv-images',\n",
              " 'scissors',\n",
              " 'train']"
            ]
          },
          "metadata": {
            "tags": []
          },
          "execution_count": 5
        }
      ]
    },
    {
      "cell_type": "code",
      "metadata": {
        "id": "1XhyGp9LJguu",
        "outputId": "fc4fd7c1-0a78-4d70-94ea-3f559cedbe2b",
        "colab": {
          "base_uri": "https://localhost:8080/"
        }
      },
      "source": [
        "# While running above codes, the sub-directory for scissors couldn't be created as expected\n",
        "if not os.path.exists(train_subdir_scissors):\n",
        "  os.mkdir(train_subdir_scissors)\n",
        "\n",
        "os.listdir(train_dir)"
      ],
      "execution_count": 12,
      "outputs": [
        {
          "output_type": "execute_result",
          "data": {
            "text/plain": [
              "['paper', 'rock', 'scissors']"
            ]
          },
          "metadata": {
            "tags": []
          },
          "execution_count": 12
        }
      ]
    },
    {
      "cell_type": "code",
      "metadata": {
        "id": "0DKHEU4TJYH-",
        "outputId": "28fc95f6-edd1-41c5-f792-5b2aa736892a",
        "colab": {
          "base_uri": "https://localhost:8080/"
        }
      },
      "source": [
        "os.listdir(validation_dir)"
      ],
      "execution_count": 13,
      "outputs": [
        {
          "output_type": "execute_result",
          "data": {
            "text/plain": [
              "['paper', 'rock', 'scissors']"
            ]
          },
          "metadata": {
            "tags": []
          },
          "execution_count": 13
        }
      ]
    },
    {
      "cell_type": "code",
      "metadata": {
        "id": "VPCcF61NCg2K"
      },
      "source": [
        "# Splitting data into train dan data validation by 40%\n",
        "train_data_paper, val_data_paper = train_test_split(os.listdir(paper_dir), test_size = 0.4)\n",
        "train_data_rock, val_data_rock = train_test_split(os.listdir(rock_dir), test_size = 0.4)\n",
        "train_data_scissors, val_data_scissors = train_test_split(os.listdir(scissors_dir), test_size = 0.4)"
      ],
      "execution_count": 14,
      "outputs": []
    },
    {
      "cell_type": "code",
      "metadata": {
        "id": "95XpvcsfEqM0",
        "outputId": "c30c2ae7-15bc-4176-ec72-69e86e6a5bbb",
        "colab": {
          "base_uri": "https://localhost:8080/"
        }
      },
      "source": [
        "# Total size Training Data\n",
        "len(train_data_paper) + len(train_data_rock) + len(train_data_scissors)"
      ],
      "execution_count": 15,
      "outputs": [
        {
          "output_type": "execute_result",
          "data": {
            "text/plain": [
              "1312"
            ]
          },
          "metadata": {
            "tags": []
          },
          "execution_count": 15
        }
      ]
    },
    {
      "cell_type": "code",
      "metadata": {
        "id": "H78ndRVtEvhA",
        "outputId": "d887a0ea-41bb-459c-b8dc-d31a0b59c2ee",
        "colab": {
          "base_uri": "https://localhost:8080/"
        }
      },
      "source": [
        "# Total size Validation Data\n",
        "len(val_data_paper) + len(val_data_rock) + len(val_data_scissors)"
      ],
      "execution_count": 16,
      "outputs": [
        {
          "output_type": "execute_result",
          "data": {
            "text/plain": [
              "876"
            ]
          },
          "metadata": {
            "tags": []
          },
          "execution_count": 16
        }
      ]
    },
    {
      "cell_type": "code",
      "metadata": {
        "id": "aKvkaEpN-C9a"
      },
      "source": [
        "# Duplicate/Copy all data from original dir to train and val\n",
        "# Train Data\n",
        "for i in train_data_paper:\n",
        "  shutil.copy(os.path.join(paper_dir, i), train_subdir_paper)\n",
        "for i in train_data_rock:\n",
        "  shutil.copy(os.path.join(rock_dir, i), train_subdir_rock)\n",
        "for i in train_data_scissors:\n",
        "  shutil.copy(os.path.join(scissors_dir, i), train_subdir_scissors)\n",
        "\n",
        "# Val Data\n",
        "for i in val_data_paper:\n",
        "  shutil.copy(os.path.join(paper_dir, i), val_subdir_paper)\n",
        "for i in val_data_rock:\n",
        "  shutil.copy(os.path.join(rock_dir, i), val_subdir_rock)\n",
        "for i in val_data_scissors:\n",
        "  shutil.copy(os.path.join(scissors_dir, i), val_subdir_scissors)"
      ],
      "execution_count": 17,
      "outputs": []
    },
    {
      "cell_type": "code",
      "metadata": {
        "id": "C1TpxMatIhTR",
        "outputId": "d1523625-ee76-412e-a52e-23eacf8f2608",
        "colab": {
          "base_uri": "https://localhost:8080/"
        }
      },
      "source": [
        "os.listdir(train_subdir_scissors)"
      ],
      "execution_count": 18,
      "outputs": [
        {
          "output_type": "execute_result",
          "data": {
            "text/plain": [
              "['HYMbsGR9sq7jfwQp.png',\n",
              " 'Y5XFnk5x9pi67RxA.png',\n",
              " '6gt1kvpjTKJIA7S0.png',\n",
              " 'Dl9fg6ttVQY9U28G.png',\n",
              " 'NfmReZcDjjo6EJ3z.png',\n",
              " 'PcrxANaDvhRnDlxq.png',\n",
              " 'HJ3qSJKzOvM3IwZR.png',\n",
              " 'ta6G9KRgDwtvZsrJ.png',\n",
              " 'TfQG2fJYyDv8Ic8P.png',\n",
              " 'b6laDVaqf5K3aQvH.png',\n",
              " 'ukg3QI26FUEa7YDn.png',\n",
              " 'CLCnzerdshjQe3HQ.png',\n",
              " '8ei3rSl89D6W8Tav.png',\n",
              " 'wNuL3RC8AtAW70Bx.png',\n",
              " 'MFlCOcvmOe3jejwy.png',\n",
              " 'AqKsjUyFEqJcD0HC.png',\n",
              " 'tZ8TlcDUMWqENtfF.png',\n",
              " 'IY2XFK2Iinzy6K4i.png',\n",
              " 'FFGftZrGnvN8rRqN.png',\n",
              " 'JGKvhDVwPPH5n7Kp.png',\n",
              " 'aDk2yxglXt7Xkrzw.png',\n",
              " '9tyrAAweW8qCI4st.png',\n",
              " 'KcCGOFZoEMOitVPh.png',\n",
              " '3bkC6JAPog7xX9WO.png',\n",
              " 'OWzxS6m9SGpk1bnY.png',\n",
              " 'xfdYfkrgEZ2fuuck.png',\n",
              " '0ePX1wuCc3et7leL.png',\n",
              " 'RCThbCZDuS9DMCY7.png',\n",
              " 'XEmNGqnMFMoeRQRi.png',\n",
              " 'KngvagTrRurJUlI5.png',\n",
              " 'LHW5Ms4SEAGtveh5.png',\n",
              " 'z6HDaayUjgx6LnhS.png',\n",
              " 'JCPNp02x7U7KU7bP.png',\n",
              " 'IEE3kJIfbClsf54v.png',\n",
              " 'kyzq1dNdXgG9OZDb.png',\n",
              " 'PnOq5kwHISggPuW4.png',\n",
              " 'IzA79EWPoX9pRKhq.png',\n",
              " 'iM1hcJsC387vy9YA.png',\n",
              " 'uRSLPvxdMFumUTl4.png',\n",
              " 'yUG4uvp1tvCVbLlk.png',\n",
              " 'fFnXXczN4qqWFcsE.png',\n",
              " 'oNZAuH1gIa65iSMu.png',\n",
              " 'FeKk3jfdVyzHV7l5.png',\n",
              " 'poCFGCxA1Vb8ucxm.png',\n",
              " 'xAnfzBYnsnuru9Nf.png',\n",
              " 'jWUoY57nkFKUUdD5.png',\n",
              " 'LFzPbXpksRrG9jpF.png',\n",
              " 'XXKgbWzJCa3JSYdz.png',\n",
              " 'Us8s37BoILcW4tgE.png',\n",
              " 'ttGVYechgB3WAlum.png',\n",
              " '3UH9T0W1eZQW36xF.png',\n",
              " 'X04PclHUrXo1cF1d.png',\n",
              " 'gK1XEsUjwJ5gDOSz.png',\n",
              " 'mmLhBFvXWgD957XY.png',\n",
              " 'Z6CURxA1iRNhTzO9.png',\n",
              " 'RPQtLp789cqfKEQE.png',\n",
              " 'dowAehk6HVomDGpw.png',\n",
              " 'XN42vZFFWvOwwrEb.png',\n",
              " 'tY10CBYriMn4lsUO.png',\n",
              " 'YtwkLLgHWgoRfTaB.png',\n",
              " 'dFlxUAypUgfOZqoV.png',\n",
              " '9n5YXSqxWa9wgPIW.png',\n",
              " 'IH5gpU7fLJSn90Rx.png',\n",
              " 'Eodp43S6sgfxeCST.png',\n",
              " 'rOigyekSUNnTrmz6.png',\n",
              " '44Hu6owS3pPqmyG1.png',\n",
              " 'IdrewaHdlHRrNHbJ.png',\n",
              " 'TqrIZuWA1XJR0MEK.png',\n",
              " 'CjjM6i1OEFaKcm6e.png',\n",
              " 'RbjC5b9sd5JtTlOf.png',\n",
              " 'XPvABb1iOSQx69Dq.png',\n",
              " '1lEpWTJDphkm3HdC.png',\n",
              " 'VaVPcDb7mPMQ1gHk.png',\n",
              " 'o3uLvDdBwKBY9793.png',\n",
              " 'xOdLJOH2sxWkgRTS.png',\n",
              " 'lMMb00aQLU5FP5rd.png',\n",
              " 'bmlw6acW9500qauw.png',\n",
              " 'G5iYVibCVfZW27jB.png',\n",
              " 'fdVS2hjaLlbu5u8J.png',\n",
              " 'jX4XP2bjq762S0Wj.png',\n",
              " 'mtLouezQUnTbfEgj.png',\n",
              " '0Flw60Z2MAWWKn6S.png',\n",
              " '9A40U8awLxJ2lf1E.png',\n",
              " '9VLUR3WfMvIdEMrO.png',\n",
              " 'DXQaN15KphkE4i7z.png',\n",
              " 'uMy6gyGTY6epng27.png',\n",
              " 'szaSwJITsIY88vQk.png',\n",
              " 'Lx4Xy1Odplz4I1u8.png',\n",
              " '7LFhnAZBWmtcMqDM.png',\n",
              " 'dFrcUPZxOwwT04y9.png',\n",
              " 'jrogjyPvn83c1ZRy.png',\n",
              " 'ZyZeKfG5s1J9Qn64.png',\n",
              " 'yAuOKZfd9CyDMYdg.png',\n",
              " 'zV0yCNG0C9s4GId3.png',\n",
              " 'G6trRFSUGIeaQorS.png',\n",
              " 'wjpTy95PqKpcRg9o.png',\n",
              " 'AqQ5Xll9nVqJODji.png',\n",
              " 'o1cPo5Z2YLfTz2vJ.png',\n",
              " 'I17M0iKd7oKgMtDw.png',\n",
              " 'HLeuB19sXYxS84Gt.png',\n",
              " 'ksWe2SZsjOoLAzf5.png',\n",
              " 'YI6MrQ5Fa7DXhcjr.png',\n",
              " 'z5l2JCxLM7igVya5.png',\n",
              " 'Ct3DVjkYKTia5Xq9.png',\n",
              " 'lSAWzGgHunaNt7jj.png',\n",
              " '0CSaM2vL2cWX6Cay.png',\n",
              " 'bI7SDSU3g7fZsxRM.png',\n",
              " 'GErhi3nROcOcubPG.png',\n",
              " 'GacGc5Z89bSZ5IXG.png',\n",
              " '9YPMzKwEOWcIx1oN.png',\n",
              " 'hzfrafUqDDoL0esu.png',\n",
              " 'UmpmKO5O9ku8kBwj.png',\n",
              " 'CmzQ1oRM0ei850Wl.png',\n",
              " 'GVxDgpt5p4FA2e6n.png',\n",
              " 'rtrnZkXYASc50OOJ.png',\n",
              " 'WUEe440w137BuSEE.png',\n",
              " 'FSQhfK1gcYqm4O4W.png',\n",
              " 'RRarqefXkioSeU1z.png',\n",
              " 'P89hjrsbJroQJg19.png',\n",
              " 'EWWFVEzkNulhftg2.png',\n",
              " 'ztTeXxuMaartlKMy.png',\n",
              " 'k7KXWWd1IymDhMIm.png',\n",
              " '4X8TOCQTfCWnMfm2.png',\n",
              " '1jKhi65BPTLXnUI6.png',\n",
              " 'NInKk7uh3vNRuwCm.png',\n",
              " 'Y2lr5d6VnNfievnA.png',\n",
              " 'kklrxqhAClWO5J80.png',\n",
              " 'wxHuDLxKADn1JJqS.png',\n",
              " 'inP9wrbC4x26yBW9.png',\n",
              " 'gs2BzCeH7aDo8Lhs.png',\n",
              " 'SsNjRQhLfqyGZtkG.png',\n",
              " 'ZcGYyQZWKP4EcVEz.png',\n",
              " 'U548QDFNMOTUq5nN.png',\n",
              " 'gLvAPtEJW1Ff5KLX.png',\n",
              " 'Ty7ti2YUZ4XJcaOk.png',\n",
              " 'R9xpzPuawT5aH69c.png',\n",
              " '5inLBb6qZY0gpX3b.png',\n",
              " '1L1n6plr7jlZGirw.png',\n",
              " 'mRlkMzgNq3PxHHe4.png',\n",
              " 'UTc5RnTVPMdKnVPL.png',\n",
              " 'Hkq2KHtnKxyBLLPU.png',\n",
              " '56VICUKU6RgoLTHW.png',\n",
              " 'Kzghoy329glIgfcC.png',\n",
              " '2V5E7uHmAh9eK0qt.png',\n",
              " 'aRca3k5D1oCHVx0h.png',\n",
              " 'PKilVWkKw9dYVTMx.png',\n",
              " 'jy6fSFQ1ynecl3P7.png',\n",
              " 'SiIASaSafeaodwOd.png',\n",
              " 'JTzFGcfB5wsRyDrm.png',\n",
              " 'Ea5uaRMj6JwEAEtn.png',\n",
              " 'KP9dgcRNzQE9tV0Z.png',\n",
              " 'UPH9bl4Vrq4Gwp3K.png',\n",
              " '2M8LvUBGMOH1bsaz.png',\n",
              " 'JDuoo6aDjbIAqA4X.png',\n",
              " 'bzQcSRVP3M7abinD.png',\n",
              " 'yPDwuZYpXF1iWDVh.png',\n",
              " 'cHA3IuTLuXm10QNQ.png',\n",
              " 'hly8CYYf6AiQucXm.png',\n",
              " '2gd0aqAxW55bHZP9.png',\n",
              " 'v9Y88d4jR0phu1rv.png',\n",
              " 'rPWSuNNi9TZbKb7l.png',\n",
              " '5EUrUn1fjmi3TKE3.png',\n",
              " 'kH6F4XFQOxMTRZj3.png',\n",
              " 'uFQ3SN5QxNyXoBmx.png',\n",
              " 'pJix3Ef2BAOt7yAz.png',\n",
              " 'Nu7zmg5BP4aU3e3Y.png',\n",
              " 'g6KeAGhgzo4NSYWc.png',\n",
              " 'Xu49k2rxvWRflm2W.png',\n",
              " 'jbj5K46TOmR5hkWu.png',\n",
              " 'SWoqkY88y24jzfHP.png',\n",
              " 'nf8YKjeoUMPtr65m.png',\n",
              " 'H9JStRaVHPocFlEq.png',\n",
              " 'qEeUSbz2Np2Qin0G.png',\n",
              " 'SxVHDxJ1kFS3Il20.png',\n",
              " 'ZCr3PjDcttbKRAAW.png',\n",
              " 'FfCLY0qhfyOoyam8.png',\n",
              " 'Qonst5LFs961D77L.png',\n",
              " 'wbdzYsdRWCWjL2Pg.png',\n",
              " 'HEvNErOwJyFQMMIB.png',\n",
              " '4Zh2kADxqxEsPTrX.png',\n",
              " '1MMkSW3f1CAsw03q.png',\n",
              " '2EeIeEe1P0a0Fi9v.png',\n",
              " 'fu07mFhmsJAtiPwr.png',\n",
              " 'oYB271o4Oo5uFHpW.png',\n",
              " 's9hnXT0uSjC6vl6W.png',\n",
              " 'VQI4ru8aVkvWIHT4.png',\n",
              " 'H7drJKmXJb6g6YxC.png',\n",
              " 'cLvjnABO9kFuwjP0.png',\n",
              " 'rGgiaJArxCsrf5RK.png',\n",
              " 'WGm4eYxzwqkTKaQs.png',\n",
              " 'XC8NJo82qJO44Nim.png',\n",
              " 'XyUSCoWQqR72pGt8.png',\n",
              " 'fNhHWQTLa9YBoIo2.png',\n",
              " 'GIFgGPzv7MykUgzM.png',\n",
              " 'ZGPpmBaEH8F0qXzI.png',\n",
              " 'yxCsGCXdJ0UuGEol.png',\n",
              " 'e5dFezMV6TxIvNXA.png',\n",
              " 'JjS0KakWxwXmg5Wi.png',\n",
              " '2TAGoXw7yaK0bXBu.png',\n",
              " 'uQLROCDZVtwVCXfm.png',\n",
              " 'rg2UeHqmCL67Pl4o.png',\n",
              " 'zepzkaBk60xgpP3C.png',\n",
              " 'Bd18RfxcJr6O5n6j.png',\n",
              " 'SJCguzLeVcfuZ2OA.png',\n",
              " 'uI2O1DwI1nIIx9Qu.png',\n",
              " 'oxU5O3n839QvrOGu.png',\n",
              " 'zdo3LHesq3aHmu1f.png',\n",
              " 'cbGRRpm8EE2K6pDH.png',\n",
              " '7Y69sHtbGL2KHj8O.png',\n",
              " 'JraYBjsfVGokNFhR.png',\n",
              " 'PQTyLq9Esb7RzmzH.png',\n",
              " 'NR48QMe5e1gskpA9.png',\n",
              " '8Gew5erdZ7A4K3gI.png',\n",
              " 'qpw9fZk3IDIXXJEr.png',\n",
              " 'gzAhbz3S2W0VukHE.png',\n",
              " 'YaAtOlkyK9hnzZ11.png',\n",
              " 'JOwOktLqjDF0qFIW.png',\n",
              " 'VOgDVSfapx23t5tA.png',\n",
              " 'Z1leFM4TO5u2eSaI.png',\n",
              " 'NSv28DjjZXJ8mvhi.png',\n",
              " '95NcnE0omOzXLqs3.png',\n",
              " 'GktptVfvaYXOIJCz.png',\n",
              " 'IOa7xROJIqP2jRQE.png',\n",
              " 'WYOb0YuOVCMs7ebJ.png',\n",
              " 'hyQDSSjNFHX7Wirc.png',\n",
              " 'EBh8bZgOANio5kQw.png',\n",
              " 'nukdu4gV8vol1FY9.png',\n",
              " 'O17SUMTLj1goVg1L.png',\n",
              " 'DcbHRGWKeOdFBzEs.png',\n",
              " 'UJ5WJEvN4vQ86HKA.png',\n",
              " 'RhwmhtMcSeQ0DeIJ.png',\n",
              " 'TUB0nmtfE8SZjEzL.png',\n",
              " 'yAEtN7WUvS5S1Cmy.png',\n",
              " 'msOEQAWveiL7r5rp.png',\n",
              " 'P3sJVlVAylvpky7E.png',\n",
              " '67sMDIYRNxuVsQQ8.png',\n",
              " 'LErff4WDwhjsYG8Z.png',\n",
              " 'c9oqImbEKG7Ij1cO.png',\n",
              " 'a8DBHodNOhJCxQrN.png',\n",
              " '2tRxoWcFfrvjsHTZ.png',\n",
              " 'yt2EhLUQ7yDuIlG4.png',\n",
              " '3n4i3lKB3nZOpDVv.png',\n",
              " 'yiOfEmSzPhjaYDwH.png',\n",
              " '5p5Qjz4unC0KcWoL.png',\n",
              " 'j1EfA5DclfCJdzLb.png',\n",
              " 'jVsCBh8HQczKdHci.png',\n",
              " 'Zz1djgkAdRqsHM3z.png',\n",
              " 'mViP022ujNQr6UX1.png',\n",
              " 'W9JxpjHtiPBtRMT0.png',\n",
              " 'GfBCXN6UyOkkwshw.png',\n",
              " 'bn7yju6XvU87slzH.png',\n",
              " 'x0d1n2y61LHxML3g.png',\n",
              " 'twG9gv5cSKwb2CqR.png',\n",
              " 'JULz0bpEBDkoMfh4.png',\n",
              " 'g1gIEqOv6YDveleA.png',\n",
              " '2C9FEbBklwcVhF3W.png',\n",
              " 'JSDICtLrQIEXhPy5.png',\n",
              " 'UO03gubyPNMaJ8pj.png',\n",
              " 'MFG70ohG4iZ3xm3b.png',\n",
              " 'VcyQqsyvtkuKXWWz.png',\n",
              " 'tvxYEibqtUm3woXx.png',\n",
              " 'MdKQlVomcJJ6Z1GA.png',\n",
              " 'qHXkVDE4py7UfvIQ.png',\n",
              " 'jui5QU0jWOCKf8hW.png',\n",
              " 'xALf82q7G9zbPjgN.png',\n",
              " 'KNNsNhduqSfuqEK5.png',\n",
              " 'itXNIVO7ghl2qja8.png',\n",
              " 'QbAO4VZw7Jlcenou.png',\n",
              " 'fnV8zv0atHjQzfhV.png',\n",
              " 'fYsFOMTEQ0VIy1Ma.png',\n",
              " 'ePMywMOdTHYyxe1o.png',\n",
              " 'xXxXuQZdlW8ebxCN.png',\n",
              " 'RydyYWgvhLQPwEaw.png',\n",
              " 'asi6ZQCskd51eHm1.png',\n",
              " 'PWtGlvRP69nLSr9F.png',\n",
              " 'a9YV7Tzoj751vTun.png',\n",
              " 'i0pYFjwidPeBL3je.png',\n",
              " 'vcEwRcuUMQ89i8on.png',\n",
              " 'uCRRTGuvPMUiZXYz.png',\n",
              " 'z7TWGDT2mb6DsKuG.png',\n",
              " 'M5u2FmtXKSMtK8yN.png',\n",
              " '17HZDUFSVPxcar99.png',\n",
              " 'FCsZ8xbkykokN7sp.png',\n",
              " 'FZTB5QPwvq7b9xok.png',\n",
              " 'DpuTr8KvePPqWO5Q.png',\n",
              " 'FoYWUBXBw6qO7y0f.png',\n",
              " 'nOIg15ZJ3XuUVkT3.png',\n",
              " 'Eolm0Lo5dzVwDYqB.png',\n",
              " '6CyIuv1pvHDwTWmR.png',\n",
              " 'qoU2kq8bmOjMY5e0.png',\n",
              " 'h8GCEjkSpQjdUuZH.png',\n",
              " 'N6hnu1jJLEfigfYH.png',\n",
              " '3Q6h5cXYeNTeOLgD.png',\n",
              " 'NeYB1usFd9o84q13.png',\n",
              " 'MfDDFjVkEdWKPi2X.png',\n",
              " 'plCaKcxMczZTYQYV.png',\n",
              " 'Vn28McGu6NtjoMsb.png',\n",
              " 'evBSpeXRlbUu82CV.png',\n",
              " 'jwdItCvoNRkssn6D.png',\n",
              " 'hzvSpM4olIqXfeVt.png',\n",
              " 'T6IiF7nWO9Tf0adD.png',\n",
              " 'ngrJl9cJoUVFdYwO.png',\n",
              " 'vur2opqCdVFD3f6c.png',\n",
              " 'RTCZxs3LhwklhSKk.png',\n",
              " 'qblMZUcJN3odjQlm.png',\n",
              " 'ejWJ6Ber6qqXnuag.png',\n",
              " 'pjOgxx8uZf2XPDFu.png',\n",
              " 'psMU7A2lP3JHiyjV.png',\n",
              " 'rgh4Zpx9TkORJIWe.png',\n",
              " 'sVmVaYH9SUDDI6y4.png',\n",
              " '8VaAxK3h5GeQAqRn.png',\n",
              " '277q9TUTAsBAbTCj.png',\n",
              " 'qhd04h0tECbOylIV.png',\n",
              " 'FP1L4Ax4XDmqP2QB.png',\n",
              " 'ZPjzBZeu7RFCMj7A.png',\n",
              " '8isFA2VQqLOxzuvC.png',\n",
              " 'TYXCfgUSBF8L7HZK.png',\n",
              " '4burI8a7jyfTRBl6.png',\n",
              " 'KYTLHLPHUqj58UVh.png',\n",
              " 'wvySukQJa9DYOX8v.png',\n",
              " 'PV4JNT7EUevp0FDj.png',\n",
              " 'DlzjcfKNEmUSyBy7.png',\n",
              " 'UDihI8vQDjvGJRjO.png',\n",
              " '7vtC68OSHd1FZJvN.png',\n",
              " 'N40rvDyvPIoApxTW.png',\n",
              " 'Tghe750qrbh7MMpP.png',\n",
              " 'PVsR1GzEGP3wznMy.png',\n",
              " '3hIcgfPOoWEIs16j.png',\n",
              " 'R27mU9zJCmv8wi1o.png',\n",
              " 'xCagFKogHbiqcrmG.png',\n",
              " 'Z3isJg9IBOn3ZHFZ.png',\n",
              " 'PnuPFf14FGLB9AKu.png',\n",
              " 'Nbdg8g0X7rioOzQT.png',\n",
              " 'CiZDoU3BINzzruL8.png',\n",
              " 'kP93zKVUzAJpIWpV.png',\n",
              " 'dkrdiLQ61q78gidZ.png',\n",
              " 'xPDNBvgWZrdijzTm.png',\n",
              " 'znR0vgP11p6yX3nI.png',\n",
              " 'W6jpdF8qZXwnsopw.png',\n",
              " 'svWW1IeCIfKmCxvY.png',\n",
              " 'Pms0QO8IsSP02WTP.png',\n",
              " 'YaRYYDirKENPeJcS.png',\n",
              " '3sHqqD2BAKmQp4dk.png',\n",
              " 'QGySPOxev60wlq1M.png',\n",
              " 'ismjaxPJzOizyqOx.png',\n",
              " 'fIryCS56DD4INQKz.png',\n",
              " 'B9HRznSZlfXYAUwK.png',\n",
              " 'zyml8p6mHzWWJTyw.png',\n",
              " 'st0riwaAOtBFhJfA.png',\n",
              " 'n3OFHC3Uz9y9JsaM.png',\n",
              " 'lGC1Z9CaHybrKaoK.png',\n",
              " 'A0t6YRrNR7SEI6DZ.png',\n",
              " 'e6O1EpJykTCPNfvI.png',\n",
              " 'EesxTpYzhZoMVlH8.png',\n",
              " 'TAaTUXACEp7hTNFW.png',\n",
              " '6drquJLYR4bjZX2E.png',\n",
              " 'm5ykDPqbTkPOEgWW.png',\n",
              " 'pLBH6c1NAfL1xVTn.png',\n",
              " 'WtS1aLhJK2FZpcEt.png',\n",
              " 'FayATL4XRpv7AB0y.png',\n",
              " 's3L79HfHyX9tyTS0.png',\n",
              " 'ejrBEOeknHrk4kCi.png',\n",
              " 'J1xlCySVCiSiwbcF.png',\n",
              " '3kVoftgTNdDcvPPY.png',\n",
              " '9r4WuhdqPmffGmPA.png',\n",
              " 'REzgm4ptrguK4bgX.png',\n",
              " '7A1YTmfZsbSdxPKy.png',\n",
              " 'DJQMlkIuVBNMoXMX.png',\n",
              " 'hmu0D0hhHVAD8wXd.png',\n",
              " '8K3rwVoAAjAqkkqq.png',\n",
              " 'bLJSE1dl7VbQCUF9.png',\n",
              " 'OvlZhZPWYPjouJIM.png',\n",
              " '4z7r8yUDFk3HwEgN.png',\n",
              " '0zoQAmDFXehOZsAp.png',\n",
              " 'RrbEWg7xTBv2qa9q.png',\n",
              " 'Lv7HtvXSy9JMzap2.png',\n",
              " 'jL3CMVgsLdWznnKe.png',\n",
              " 'sNnaELZrclDFKtoL.png',\n",
              " 'R9GlL5dx9nmjXWlS.png',\n",
              " '4hvoLYY28SGuZCEI.png',\n",
              " 'fTwiqatiNNgEeTBi.png',\n",
              " 'glvH49YVWOtxdOyh.png',\n",
              " 'mAjn51U2iJwlh99P.png',\n",
              " 'wQC1ZnzFaPmqMzp0.png',\n",
              " 'HqB3HFyK3VvZha0Y.png',\n",
              " 'PsPaUu1XDiYpp92z.png',\n",
              " '8AR7dUmrz9jcFrHu.png',\n",
              " 'j3c7JHbJwmnOq6cu.png',\n",
              " 'JlHdrLmHFDNY7Cy2.png',\n",
              " 'PiurKNJwniJWLxD8.png',\n",
              " 'dyXtUOfqM9sxdcXr.png',\n",
              " 'Ckqc5ia9xteRont9.png',\n",
              " 'CPRUyuzmPTO8JrEp.png',\n",
              " 'c5vx49tv1qUAH19T.png',\n",
              " 'E5WazBRd4ax2tHs4.png',\n",
              " 'vua0e2tJtebtNywx.png',\n",
              " '7Zb3QM9tznboKuQE.png',\n",
              " 'XWF7hCQnD6qfJUCI.png',\n",
              " '8aOKoHx8aFjtDkxJ.png',\n",
              " 'MqPYNCxzDBls3LRf.png',\n",
              " '7SOrAw5PvJghnwuq.png',\n",
              " 'ZKG6hW0U101PcEoo.png',\n",
              " 'r0rDY3jRgJB5q9MX.png',\n",
              " 'FEpMZLoRy5eAgRvh.png',\n",
              " '1yDUM1w2HTbuPIfO.png',\n",
              " 'G3WzvjZXkizn9iK9.png',\n",
              " 'WQlZZHmfKvMFfUE8.png',\n",
              " 'qfwqUBajqgUWpW86.png',\n",
              " 'kUUKyIbaWlM3GgEs.png',\n",
              " 'ny4ARFjALtDxJqGg.png',\n",
              " 'DgzqzxG2Zr26s93Y.png',\n",
              " 'GgA8wrylOr4pvJhZ.png',\n",
              " '2DEYFsJ27UgVqv3W.png',\n",
              " 'q936z2wWrJh1ITTp.png',\n",
              " 'OLq5gEcrMDGftxeG.png',\n",
              " 'vk4PY18fJkMJvtbm.png',\n",
              " 'loXdJgVrbcZGFjas.png',\n",
              " 'VrHis8ru9xXA5Lqh.png',\n",
              " 'i5CZnAPMNTZtM13A.png',\n",
              " 'LiCKhA8ipxSqU9Fo.png',\n",
              " 'GGQjHIWNHMjBHBsr.png',\n",
              " '7gnNbHRprrV3r7kX.png',\n",
              " 'ASH8lCQK8VGgkfyG.png',\n",
              " 'FAgOt7E8exiEn1fa.png',\n",
              " 'JgqT9u28RqoBgJdy.png',\n",
              " '7M6QmAbgSaXFX9ES.png',\n",
              " 'JTbM7M5ZIxA7oFEX.png',\n",
              " '1CXgK9fgGdSRggD9.png',\n",
              " 'o3cajP31029qBUIX.png',\n",
              " 'KCh0XBlgDa526pBe.png',\n",
              " 'EkArrGlCdj8NNPbu.png',\n",
              " 'M8ctr4cjddfGnoWg.png',\n",
              " 'JZXTU0Cv6A2WPuf5.png',\n",
              " 'sjx49D4yv4AIXKCy.png',\n",
              " 'oDhw5SDj3rprGmyc.png',\n",
              " 'Wp5WNP9Enlm4zjhx.png',\n",
              " 'tPxruYoQszERdzTA.png',\n",
              " 'Mwmjta6k9iqQKKd7.png',\n",
              " 'eTkUxksFCvfsbVLs.png',\n",
              " 'qHNvtsWSBDT0FnMt.png',\n",
              " 'GlmYygm1ezDtcUks.png',\n",
              " 'hP1nFePk6ao9xKDF.png',\n",
              " 'kCoX1GxQ9o2ZhRy9.png',\n",
              " 'RZpLPA2iKiZ2GXR9.png',\n",
              " 'JtDq2l0qrhsysghx.png',\n",
              " 'IqHedcZ3nrBRxpn6.png',\n",
              " 'RQgc9a0ml3hXrJXq.png',\n",
              " 'a6nlEYiU2vnnUcp3.png',\n",
              " 'oJHJKGs9EiSNQo1m.png',\n",
              " 'tf8qhgtb5y3S8UiF.png']"
            ]
          },
          "metadata": {
            "tags": []
          },
          "execution_count": 18
        }
      ]
    },
    {
      "cell_type": "code",
      "metadata": {
        "id": "zMT_p3kX1UlD",
        "outputId": "2548f08f-defd-472c-addd-8fd323d7de53",
        "colab": {
          "base_uri": "https://localhost:8080/",
          "height": 35
        }
      },
      "source": [
        "# To delete\n",
        "train_subdir_paper"
      ],
      "execution_count": 19,
      "outputs": [
        {
          "output_type": "execute_result",
          "data": {
            "application/vnd.google.colaboratory.intrinsic+json": {
              "type": "string"
            },
            "text/plain": [
              "'/tmp/rockpaperscissors/train/paper'"
            ]
          },
          "metadata": {
            "tags": []
          },
          "execution_count": 19
        }
      ]
    },
    {
      "cell_type": "code",
      "metadata": {
        "id": "NO3FUD_U2nsc"
      },
      "source": [
        "# To delete\n",
        "os.listdir(validation_dir)"
      ],
      "execution_count": null,
      "outputs": []
    },
    {
      "cell_type": "code",
      "metadata": {
        "id": "MvbNnK8mAafr"
      },
      "source": [
        "train_datagen = ImageDataGenerator(\n",
        "                    rescale=1./255,\n",
        "                    rotation_range=20,\n",
        "                    horizontal_flip=True,\n",
        "                    shear_range = 0.2,\n",
        "                    fill_mode = 'nearest')\n",
        "\n",
        "test_datagen = ImageDataGenerator(\n",
        "                    rescale=1./255,\n",
        "                    rotation_range=20,\n",
        "                    horizontal_flip=True,\n",
        "                    shear_range = 0.2,\n",
        "                    fill_mode = 'nearest')\n"
      ],
      "execution_count": 46,
      "outputs": []
    },
    {
      "cell_type": "code",
      "metadata": {
        "id": "P9lvCO5pA2Zu",
        "outputId": "61cb6b50-1ebe-46eb-c7fb-aa8b40a1a0cd",
        "colab": {
          "base_uri": "https://localhost:8080/"
        }
      },
      "source": [
        "train_generator = train_datagen.flow_from_directory(\n",
        "    train_dir,\n",
        "    target_size =(150,150),\n",
        "    batch_size = 32,\n",
        "    class_mode = 'categorical'\n",
        ")\n",
        "\n",
        "validation_generator = test_datagen.flow_from_directory(\n",
        "    validation_dir,\n",
        "    target_size = (150,150),\n",
        "    batch_size = 32,\n",
        "    class_mode = 'categorical'\n",
        ")\n"
      ],
      "execution_count": 47,
      "outputs": [
        {
          "output_type": "stream",
          "text": [
            "Found 1312 images belonging to 3 classes.\n",
            "Found 876 images belonging to 3 classes.\n"
          ],
          "name": "stdout"
        }
      ]
    },
    {
      "cell_type": "code",
      "metadata": {
        "id": "SgRHRsNcLcgA"
      },
      "source": [
        "model = tf.keras.models.Sequential([\n",
        "    tf.keras.layers.Conv2D(32, (3,3), activation='relu', input_shape=(150, 150, 3)),\n",
        "    tf.keras.layers.MaxPooling2D(2, 2),\n",
        "    tf.keras.layers.Conv2D(64, (3,3), activation='relu'),\n",
        "    tf.keras.layers.MaxPooling2D(2,2),\n",
        "    tf.keras.layers.Conv2D(128, (3,3), activation='relu'),\n",
        "    tf.keras.layers.MaxPooling2D(2,2),\n",
        "    tf.keras.layers.Conv2D(512, (3,3), activation='relu'),\n",
        "    tf.keras.layers.MaxPooling2D(2,2),\n",
        "    tf.keras.layers.Flatten(),\n",
        "    tf.keras.layers.Dense(512, activation='relu'),\n",
        "    tf.keras.layers.Dense(3, activation='sigmoid')\n",
        "])"
      ],
      "execution_count": 48,
      "outputs": []
    },
    {
      "cell_type": "code",
      "metadata": {
        "id": "yIjDAC-dLrfH"
      },
      "source": [
        "model.compile(loss = 'categorical_crossentropy', # class_mode = 'categorical'\n",
        "              optimizer = 'adam',\n",
        "              metrics=['accuracy'])"
      ],
      "execution_count": 51,
      "outputs": []
    },
    {
      "cell_type": "code",
      "metadata": {
        "id": "d0dkeOwQL3lZ",
        "outputId": "3774a798-c777-45bb-ccf8-cb3f897a931e",
        "colab": {
          "base_uri": "https://localhost:8080/"
        }
      },
      "source": [
        "history = model.fit(\n",
        "      train_generator,\n",
        "      steps_per_epoch = 20,  \n",
        "      epochs = 20,\n",
        "      validation_data = validation_generator, \n",
        "      validation_steps = 5,  \n",
        "      verbose = 2)"
      ],
      "execution_count": 52,
      "outputs": [
        {
          "output_type": "stream",
          "text": [
            "Epoch 1/20\n",
            "20/20 - 36s - loss: 1.0048 - accuracy: 0.4531 - val_loss: 0.7937 - val_accuracy: 0.6687\n",
            "Epoch 2/20\n",
            "20/20 - 36s - loss: 0.6752 - accuracy: 0.7250 - val_loss: 0.4857 - val_accuracy: 0.8313\n",
            "Epoch 3/20\n",
            "20/20 - 36s - loss: 0.4305 - accuracy: 0.8516 - val_loss: 0.3457 - val_accuracy: 0.9062\n",
            "Epoch 4/20\n",
            "20/20 - 36s - loss: 0.2540 - accuracy: 0.9141 - val_loss: 0.2532 - val_accuracy: 0.9125\n",
            "Epoch 5/20\n",
            "20/20 - 36s - loss: 0.1951 - accuracy: 0.9344 - val_loss: 0.2841 - val_accuracy: 0.9187\n",
            "Epoch 6/20\n",
            "20/20 - 36s - loss: 0.2359 - accuracy: 0.9234 - val_loss: 0.1294 - val_accuracy: 0.9688\n",
            "Epoch 7/20\n",
            "20/20 - 36s - loss: 0.2013 - accuracy: 0.9266 - val_loss: 0.1768 - val_accuracy: 0.9438\n",
            "Epoch 8/20\n",
            "20/20 - 36s - loss: 0.1692 - accuracy: 0.9438 - val_loss: 0.1972 - val_accuracy: 0.9438\n",
            "Epoch 9/20\n",
            "20/20 - 38s - loss: 0.1557 - accuracy: 0.9484 - val_loss: 0.1219 - val_accuracy: 0.9250\n",
            "Epoch 10/20\n",
            "20/20 - 38s - loss: 0.1393 - accuracy: 0.9422 - val_loss: 0.1348 - val_accuracy: 0.9438\n",
            "Epoch 11/20\n",
            "20/20 - 36s - loss: 0.1025 - accuracy: 0.9734 - val_loss: 0.1485 - val_accuracy: 0.9187\n",
            "Epoch 12/20\n",
            "20/20 - 36s - loss: 0.0924 - accuracy: 0.9734 - val_loss: 0.1056 - val_accuracy: 0.9500\n",
            "Epoch 13/20\n",
            "20/20 - 37s - loss: 0.1010 - accuracy: 0.9656 - val_loss: 0.1528 - val_accuracy: 0.9250\n",
            "Epoch 14/20\n",
            "20/20 - 38s - loss: 0.1110 - accuracy: 0.9563 - val_loss: 0.1567 - val_accuracy: 0.9375\n",
            "Epoch 15/20\n",
            "20/20 - 36s - loss: 0.1396 - accuracy: 0.9594 - val_loss: 0.1570 - val_accuracy: 0.9250\n",
            "Epoch 16/20\n",
            "20/20 - 35s - loss: 0.1003 - accuracy: 0.9672 - val_loss: 0.0949 - val_accuracy: 0.9625\n",
            "Epoch 17/20\n",
            "20/20 - 36s - loss: 0.1062 - accuracy: 0.9625 - val_loss: 0.0734 - val_accuracy: 0.9750\n",
            "Epoch 18/20\n",
            "20/20 - 36s - loss: 0.1001 - accuracy: 0.9641 - val_loss: 0.1716 - val_accuracy: 0.9500\n",
            "Epoch 19/20\n",
            "20/20 - 36s - loss: 0.0912 - accuracy: 0.9688 - val_loss: 0.0840 - val_accuracy: 0.9750\n",
            "Epoch 20/20\n",
            "20/20 - 36s - loss: 0.0897 - accuracy: 0.9672 - val_loss: 0.1262 - val_accuracy: 0.9750\n"
          ],
          "name": "stdout"
        }
      ]
    },
    {
      "cell_type": "code",
      "metadata": {
        "id": "-0R0sFQYPPNm",
        "outputId": "349313dc-93a8-4f51-ab44-f3e9ecc006e7",
        "colab": {
          "resources": {
            "http://localhost:8080/nbextensions/google.colab/files.js": {
              "data": "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",
              "ok": true,
              "headers": [
                [
                  "content-type",
                  "application/javascript"
                ]
              ],
              "status": 200,
              "status_text": ""
            }
          },
          "base_uri": "https://localhost:8080/",
          "height": 358
        }
      },
      "source": [
        "import numpy as np\n",
        "from google.colab import files\n",
        "from keras.preprocessing import image\n",
        "import matplotlib.pyplot as plt\n",
        "import matplotlib.image as mpimg\n",
        "import matplotlib.pyplot as plt\n",
        "import matplotlib.image as mpimg\n",
        "%matplotlib inline\n",
        "\n",
        "uploaded = files.upload()\n",
        "\n",
        "for fn in uploaded.keys():\n",
        " \n",
        "  # predicting images\n",
        "  path = fn\n",
        "  img = image.load_img(path, target_size=(150,150))\n",
        "  imgplot = plt.imshow(img)\n",
        "  x = image.img_to_array(img)\n",
        "  x = np.expand_dims(x, axis=0)\n",
        "\n",
        "  images = np.vstack([x])\n",
        "  classes = model.predict(images, batch_size=10)\n",
        "\n",
        "print(fn)\n",
        "# classes\n",
        "\n",
        "if classes[0,0]==1:\n",
        "  print('paper')\n",
        "elif classes[0,1]==1:\n",
        "  print('rock')\n",
        "else:\n",
        "  print('scissors')"
      ],
      "execution_count": 72,
      "outputs": [
        {
          "output_type": "display_data",
          "data": {
            "text/html": [
              "\n",
              "     <input type=\"file\" id=\"files-ad8c3557-44b6-4ec7-ba47-cca186c45011\" name=\"files[]\" multiple disabled\n",
              "        style=\"border:none\" />\n",
              "     <output id=\"result-ad8c3557-44b6-4ec7-ba47-cca186c45011\">\n",
              "      Upload widget is only available when the cell has been executed in the\n",
              "      current browser session. Please rerun this cell to enable.\n",
              "      </output>\n",
              "      <script src=\"/nbextensions/google.colab/files.js\"></script> "
            ],
            "text/plain": [
              "<IPython.core.display.HTML object>"
            ]
          },
          "metadata": {
            "tags": []
          }
        },
        {
          "output_type": "stream",
          "text": [
            "Saving hfNIdhXfFcNcv37n.png to hfNIdhXfFcNcv37n (3).png\n",
            "hfNIdhXfFcNcv37n.png\n",
            "rock\n"
          ],
          "name": "stdout"
        },
        {
          "output_type": "display_data",
          "data": {
            "image/png": "[encoded data removed]",
            "text/plain": [
              "<Figure size 432x288 with 1 Axes>"
            ]
          },
          "metadata": {
            "tags": [],
            "needs_background": "light"
          }
        }
      ]
    },
    {
      "cell_type": "code",
      "metadata": {
        "id": "ErUCWwpcTt5j"
      },
      "source": [
        ""
      ],
      "execution_count": null,
      "outputs": []
    }
  ]
}